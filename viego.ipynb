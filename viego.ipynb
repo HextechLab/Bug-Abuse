{
 "cells": [
  {
   "cell_type": "markdown",
   "metadata": {},
   "source": [
    "# Viego Data analysis"
   ]
  },
  {
   "cell_type": "markdown",
   "metadata": {},
   "source": [
    "## Gathering data"
   ]
  },
  {
   "cell_type": "markdown",
   "metadata": {},
   "source": [
    "All games with a Viego in it are stored in game_viego collection."
   ]
  },
  {
   "cell_type": "code",
   "execution_count": 1,
   "metadata": {},
   "outputs": [],
   "source": [
    "import pymongo\n",
    "\n",
    "client = pymongo.MongoClient()\n",
    "db = client.viego_2021\n",
    "mongoTable = db[\"game_viego\"]"
   ]
  },
  {
   "cell_type": "markdown",
   "metadata": {},
   "source": [
    "Find the Viego player and look for the Dark Seal in his EoG items, then save the game data in memory."
   ]
  },
  {
   "cell_type": "code",
   "execution_count": 2,
   "metadata": {},
   "outputs": [],
   "source": [
    "games = []\n",
    "for g in mongoTable.find({},{\"gameId\":1,\"participants\":1,\"participantIdentities\":1,\"timeline\":1,\"queueId\":1,\"gameCreation\":1}):\n",
    "    \n",
    "    for p in g[\"participants\"]:\n",
    "        # If the champion played if Viego\n",
    "        if p[\"championId\"] == 234:\n",
    "            viego_pId = p[\"participantId\"]\n",
    "            \n",
    "            # If Dark seal in EoG items\n",
    "            if 1082 in [p[\"stats\"][\"item\"+str(i)] for i in range(0,7)]:\n",
    "                break\n",
    "    \n",
    "    seal_bought = False\n",
    "    \n",
    "    # Search for Dark Seal purchase by Viego player\n",
    "    for frame in g[\"timeline\"][\"frames\"]:\n",
    "        for event in frame[\"events\"]:\n",
    "            if event[\"type\"] == \"ITEM_PURCHASED\" and event[\"participantId\"] == viego_pId:\n",
    "                if event[\"itemId\"] == 1082:\n",
    "                    seal_bought = True\n",
    "                    break\n",
    "    \n",
    "    # Save the game data in memory\n",
    "    if seal_bought:\n",
    "        games.append(g)\n",
    "        "
   ]
  },
  {
   "cell_type": "markdown",
   "metadata": {},
   "source": [
    "Setting static information"
   ]
  },
  {
   "cell_type": "code",
   "execution_count": 36,
   "metadata": {},
   "outputs": [],
   "source": [
    "queue_types = {\n",
    "    400:\"Normal\",\n",
    "    420:\"Ranked\",\n",
    "    430:\"Normal\",\n",
    "    440:\"Ranked\",\n",
    "    450:\"ARAM\",\n",
    "    700:\"Clash\",\n",
    "    830:\"Coop vs AI\",\n",
    "    840:\"Coop vs AI\",\n",
    "    850:\"Coop vs AI\",\n",
    "    900:\"URF\",\n",
    "    2000:\"Tuto\",\n",
    "    2010:\"Tuto\",\n",
    "    2020:\"Tuto\"\n",
    "}"
   ]
  },
  {
   "cell_type": "markdown",
   "metadata": {},
   "source": [
    "Gathering clean data about players abusing the bug, and their allies."
   ]
  },
  {
   "cell_type": "code",
   "execution_count": 4,
   "metadata": {},
   "outputs": [],
   "source": [
    "players_abusing = []\n",
    "players_with = []\n",
    "for g in games:\n",
    "    \n",
    "    # p[\"stats\"][\"totalDamageDealt\"] < 0  is the way tto find the overflow unique to Dark Seal Viego bug\n",
    "    # Finding the teams with a Viego abuser, as there can be one in each team\n",
    "    teams_with_viego_abuser = set([p[\"teamId\"] for p in g[\"participants\"] if p[\"championId\"] == 234 and p[\"stats\"][\"totalDamageDealt\"] < 0])\n",
    "    \n",
    "    # Linkg accountId to participantId\n",
    "    participant_accountId = {}\n",
    "    for p in g[\"participantIdentities\"]:\n",
    "        participant_accountId[p[\"participantId\"]] = p[\"player\"][\"currentAccountId\"]\n",
    "        \n",
    "    for p in g[\"participants\"]:\n",
    "        # Viego abusers\n",
    "        if p[\"championId\"] == 234 and p[\"stats\"][\"totalDamageDealt\"] < 0:\n",
    "            players_abusing.append({\n",
    "                \"gameId\":g[\"gameId\"],\n",
    "                \"win\":p[\"stats\"][\"win\"],\n",
    "                \"queueId\":g[\"queueId\"],\n",
    "                \"queueType\":queue_types[g[\"queueId\"]],\n",
    "                \"accountId\":participant_accountId[p[\"participantId\"]],\n",
    "                \"timestamp\":g[\"gameCreation\"]\n",
    "            })\n",
    "        #Viego abuser allies\n",
    "        elif p[\"teamId\"] in teams_with_viego_abuser:\n",
    "            players_with.append({\n",
    "                \"gameId\":g[\"gameId\"],\n",
    "                \"win\":p[\"stats\"][\"win\"],\n",
    "                \"queueId\":g[\"queueId\"],\n",
    "                \"queueType\":queue_types[g[\"queueId\"]],\n",
    "                \"accountId\":participant_accountId[p[\"participantId\"]],\n",
    "                \"timestamp\":g[\"gameCreation\"]\n",
    "            })\n",
    "            "
   ]
  },
  {
   "cell_type": "markdown",
   "metadata": {},
   "source": [
    "Putting everything into DataFrames"
   ]
  },
  {
   "cell_type": "code",
   "execution_count": 6,
   "metadata": {},
   "outputs": [],
   "source": [
    "import pandas as pd\n",
    "df_players_abusing = pd.DataFrame(players_abusing)\n",
    "df_players_with = pd.DataFrame(players_with)"
   ]
  },
  {
   "cell_type": "markdown",
   "metadata": {},
   "source": [
    "Getting the last time played for all considered accounts"
   ]
  },
  {
   "cell_type": "code",
   "execution_count": 7,
   "metadata": {},
   "outputs": [],
   "source": [
    "from pantheon import pantheon\n",
    "import asyncio\n",
    "\n",
    "# Setting up Pantheon\n",
    "server = \"euw1\"\n",
    "api_key = \"RGAPI-XXXX\"\n",
    "\n",
    "panth = pantheon.Pantheon(server, api_key)\n",
    "\n",
    "# Listing all accountIds\n",
    "accountIds = list(df_players_abusing[\"accountId\"].unique())\n",
    "accountIds += list(df_players_with[\"accountId\"].unique())\n",
    "\n",
    "# Setting up the dict for link accountId to last time played\n",
    "last_game_timestamp_by_accountId = {}\n",
    "\n",
    "# Calling the API\n",
    "for accId in accountIds:\n",
    "    try:\n",
    "        last_game_timestamp_by_accountId[accId] = (await panth.getMatchlist(accId))[\"matches\"][0][\"timestamp\"]\n",
    "    except:\n",
    "        accountIds.append(accId)"
   ]
  },
  {
   "cell_type": "markdown",
   "metadata": {},
   "source": [
    "Getting bans and timestamp information information for all games"
   ]
  },
  {
   "cell_type": "code",
   "execution_count": 37,
   "metadata": {},
   "outputs": [],
   "source": [
    "bans_all = []\n",
    "for g in db[\"game_all\"].find({},{\"gameId\":1,\"queueId\":1,\"teams\":1,\"gameCreation\":1}):\n",
    "    if queue_types[g[\"queueId\"]] == \"Ranked\":\n",
    "        for t in g[\"teams\"]:\n",
    "            for ban in t[\"bans\"]:\n",
    "                bans_all.append({\n",
    "                    \"gameId\":g[\"gameId\"],\n",
    "                    \"championId\":ban[\"championId\"],\n",
    "                    \"timestamp\":g[\"gameCreation\"]\n",
    "                })\n",
    "df_bans_all = pd.DataFrame(bans_all)"
   ]
  },
  {
   "cell_type": "code",
   "execution_count": 38,
   "metadata": {},
   "outputs": [],
   "source": [
    "all_timestamps = []\n",
    "for g in mongoTable.find({},{\"gameCreation\":1}):\n",
    "    all_timestamps.append(g[\"gameCreation\"])"
   ]
  },
  {
   "cell_type": "markdown",
   "metadata": {},
   "source": [
    "## Analyzing the data"
   ]
  },
  {
   "cell_type": "markdown",
   "metadata": {},
   "source": [
    "### Games and players"
   ]
  },
  {
   "cell_type": "markdown",
   "metadata": {},
   "source": [
    "First, simply take a look at the number of relevant games and accounts"
   ]
  },
  {
   "cell_type": "code",
   "execution_count": 8,
   "metadata": {},
   "outputs": [
    {
     "data": {
      "text/plain": [
       "1032"
      ]
     },
     "execution_count": 8,
     "metadata": {},
     "output_type": "execute_result"
    }
   ],
   "source": [
    "len(df_players_abusing[\"gameId\"].unique())"
   ]
  },
  {
   "cell_type": "code",
   "execution_count": 11,
   "metadata": {},
   "outputs": [
    {
     "data": {
      "text/plain": [
       "673"
      ]
     },
     "execution_count": 11,
     "metadata": {},
     "output_type": "execute_result"
    }
   ],
   "source": [
    "len(df_players_abusing[\"accountId\"].unique())"
   ]
  },
  {
   "cell_type": "markdown",
   "metadata": {},
   "source": [
    "### Games distribution by queue"
   ]
  },
  {
   "cell_type": "markdown",
   "metadata": {},
   "source": [
    "Getting the disttribution with value_counts()"
   ]
  },
  {
   "cell_type": "code",
   "execution_count": 12,
   "metadata": {},
   "outputs": [
    {
     "data": {
      "text/plain": [
       "Ranked        519\n",
       "Normal        379\n",
       "Coop vs AI    134\n",
       "Name: queueType, dtype: int64"
      ]
     },
     "execution_count": 12,
     "metadata": {},
     "output_type": "execute_result"
    }
   ],
   "source": [
    "df_players_abusing.drop_duplicates(\"gameId\").sort_values(\"queueType\")[\"queueType\"].value_counts()"
   ]
  },
  {
   "cell_type": "markdown",
   "metadata": {},
   "source": [
    "Plotting the data into a pie chart"
   ]
  },
  {
   "cell_type": "code",
   "execution_count": 14,
   "metadata": {},
   "outputs": [
    {
     "data": {
      "image/png": "[encoded data removed]",
      "text/plain": [
       "<Figure size 432x432 with 1 Axes>"
      ]
     },
     "metadata": {},
     "output_type": "display_data"
    }
   ],
   "source": [
    "import matplotlib.pyplot as plt\n",
    "\n",
    "fig, ax = plt.subplots(facecolor=\"w\")\n",
    "\n",
    "df_players_abusing.drop_duplicates(\"gameId\").sort_values(\"queueType\")[\"queueType\"].value_counts().sort_index().plot.pie(ax=ax, figsize=(6,6))\n",
    "ax.set_title('Dark Seal Viego bug usage by queue')\n",
    "ax.set_ylabel(\"\")\n",
    "ax.set_xlabel(\"\")\n",
    "plt.show()"
   ]
  },
  {
   "cell_type": "markdown",
   "metadata": {},
   "source": [
    "### Games per player"
   ]
  },
  {
   "cell_type": "markdown",
   "metadata": {},
   "source": [
    "Here we will measure another metric, which is the number of games with the Viego bug, that each player played in"
   ]
  },
  {
   "cell_type": "code",
   "execution_count": 18,
   "metadata": {},
   "outputs": [
    {
     "data": {
      "text/html": [
       "<div>\n",
       "<style scoped>\n",
       "    .dataframe tbody tr th:only-of-type {\n",
       "        vertical-align: middle;\n",
       "    }\n",
       "\n",
       "    .dataframe tbody tr th {\n",
       "        vertical-align: top;\n",
       "    }\n",
       "\n",
       "    .dataframe thead th {\n",
       "        text-align: right;\n",
       "    }\n",
       "</style>\n",
       "<table border=\"1\" class=\"dataframe\">\n",
       "  <thead>\n",
       "    <tr style=\"text-align: right;\">\n",
       "      <th></th>\n",
       "      <th>All</th>\n",
       "      <th>Ranked</th>\n",
       "    </tr>\n",
       "  </thead>\n",
       "  <tbody>\n",
       "    <tr>\n",
       "      <th>1</th>\n",
       "      <td>492</td>\n",
       "      <td>223</td>\n",
       "    </tr>\n",
       "    <tr>\n",
       "      <th>2</th>\n",
       "      <td>103</td>\n",
       "      <td>51</td>\n",
       "    </tr>\n",
       "    <tr>\n",
       "      <th>3</th>\n",
       "      <td>35</td>\n",
       "      <td>16</td>\n",
       "    </tr>\n",
       "    <tr>\n",
       "      <th>4</th>\n",
       "      <td>16</td>\n",
       "      <td>7</td>\n",
       "    </tr>\n",
       "    <tr>\n",
       "      <th>5</th>\n",
       "      <td>11</td>\n",
       "      <td>5</td>\n",
       "    </tr>\n",
       "    <tr>\n",
       "      <th>6</th>\n",
       "      <td>8</td>\n",
       "      <td>7</td>\n",
       "    </tr>\n",
       "    <tr>\n",
       "      <th>7</th>\n",
       "      <td>3</td>\n",
       "      <td>2</td>\n",
       "    </tr>\n",
       "    <tr>\n",
       "      <th>8</th>\n",
       "      <td>1</td>\n",
       "      <td>1</td>\n",
       "    </tr>\n",
       "    <tr>\n",
       "      <th>9</th>\n",
       "      <td>1</td>\n",
       "      <td>1</td>\n",
       "    </tr>\n",
       "    <tr>\n",
       "      <th>10</th>\n",
       "      <td>3</td>\n",
       "      <td>2</td>\n",
       "    </tr>\n",
       "  </tbody>\n",
       "</table>\n",
       "</div>"
      ],
      "text/plain": [
       "    All  Ranked\n",
       "1   492     223\n",
       "2   103      51\n",
       "3    35      16\n",
       "4    16       7\n",
       "5    11       5\n",
       "6     8       7\n",
       "7     3       2\n",
       "8     1       1\n",
       "9     1       1\n",
       "10    3       2"
      ]
     },
     "execution_count": 18,
     "metadata": {},
     "output_type": "execute_result"
    }
   ],
   "source": [
    "df_games_per_player = pd.DataFrame(\n",
    "    [\n",
    "        df_players_abusing.groupby(\"accountId\").count().sort_values(\"gameId\", ascending=False)[\"gameId\"].value_counts().sort_index(), \n",
    "        df_players_abusing[df_players_abusing[\"queueType\"] == \"Ranked\"].groupby(\"accountId\").count().sort_values(\"gameId\", ascending=False)[\"gameId\"].value_counts().sort_index()\n",
    "    ], \n",
    "    index=[\"All\", \"Ranked\"]\n",
    ") \\\n",
    ".fillna(0) \\\n",
    ".astype(int).T\n",
    "\n",
    "df_games_per_player"
   ]
  },
  {
   "cell_type": "markdown",
   "metadata": {},
   "source": [
    "The index represents the number of games, and the value in the table, the number of games. For instance, 223 players used the bug only once in Ranked, and 3 players used it 10 times regardless of the queue."
   ]
  },
  {
   "cell_type": "markdown",
   "metadata": {},
   "source": [
    "We can do the same operation for the allied players"
   ]
  },
  {
   "cell_type": "code",
   "execution_count": 19,
   "metadata": {},
   "outputs": [
    {
     "data": {
      "text/html": [
       "<div>\n",
       "<style scoped>\n",
       "    .dataframe tbody tr th:only-of-type {\n",
       "        vertical-align: middle;\n",
       "    }\n",
       "\n",
       "    .dataframe tbody tr th {\n",
       "        vertical-align: top;\n",
       "    }\n",
       "\n",
       "    .dataframe thead th {\n",
       "        text-align: right;\n",
       "    }\n",
       "</style>\n",
       "<table border=\"1\" class=\"dataframe\">\n",
       "  <thead>\n",
       "    <tr style=\"text-align: right;\">\n",
       "      <th></th>\n",
       "      <th>All</th>\n",
       "      <th>Ranked</th>\n",
       "    </tr>\n",
       "  </thead>\n",
       "  <tbody>\n",
       "    <tr>\n",
       "      <th>1</th>\n",
       "      <td>3614</td>\n",
       "      <td>1809</td>\n",
       "    </tr>\n",
       "    <tr>\n",
       "      <th>2</th>\n",
       "      <td>160</td>\n",
       "      <td>57</td>\n",
       "    </tr>\n",
       "    <tr>\n",
       "      <th>3</th>\n",
       "      <td>34</td>\n",
       "      <td>23</td>\n",
       "    </tr>\n",
       "    <tr>\n",
       "      <th>4</th>\n",
       "      <td>7</td>\n",
       "      <td>2</td>\n",
       "    </tr>\n",
       "    <tr>\n",
       "      <th>5</th>\n",
       "      <td>3</td>\n",
       "      <td>2</td>\n",
       "    </tr>\n",
       "    <tr>\n",
       "      <th>6</th>\n",
       "      <td>6</td>\n",
       "      <td>6</td>\n",
       "    </tr>\n",
       "    <tr>\n",
       "      <th>7</th>\n",
       "      <td>4</td>\n",
       "      <td>3</td>\n",
       "    </tr>\n",
       "    <tr>\n",
       "      <th>9</th>\n",
       "      <td>1</td>\n",
       "      <td>1</td>\n",
       "    </tr>\n",
       "  </tbody>\n",
       "</table>\n",
       "</div>"
      ],
      "text/plain": [
       "    All  Ranked\n",
       "1  3614    1809\n",
       "2   160      57\n",
       "3    34      23\n",
       "4     7       2\n",
       "5     3       2\n",
       "6     6       6\n",
       "7     4       3\n",
       "9     1       1"
      ]
     },
     "execution_count": 19,
     "metadata": {},
     "output_type": "execute_result"
    }
   ],
   "source": [
    "df_games_per_player_with = pd.DataFrame(\n",
    "    [\n",
    "        df_players_with.groupby(\"accountId\").count().sort_values(\"gameId\", ascending=False)[\"gameId\"].value_counts().sort_index(), \n",
    "        df_players_with[df_players_with[\"queueType\"] == \"Ranked\"].groupby(\"accountId\").count().sort_values(\"gameId\", ascending=False)[\"gameId\"].value_counts().sort_index()\n",
    "    ], \n",
    "    index=[\"All\", \"Ranked\"]\n",
    ") \\\n",
    ".fillna(0) \\\n",
    ".astype(int).T\n",
    "\n",
    "df_games_per_player_with"
   ]
  },
  {
   "cell_type": "markdown",
   "metadata": {},
   "source": [
    "Of course, the number for playing once with an abuser is very high, but with high chance to be coincidence. With 2 or 3 games and more with an abuser, chances are very low that these players didn't intentionally queue up with an abuser."
   ]
  },
  {
   "cell_type": "markdown",
   "metadata": {},
   "source": [
    "Getting the table into markdown format with tabulate"
   ]
  },
  {
   "cell_type": "code",
   "execution_count": 20,
   "metadata": {},
   "outputs": [
    {
     "name": "stdout",
     "output_type": "stream",
     "text": [
      "|    |   All |   Ranked |\n",
      "|---:|------:|---------:|\n",
      "|  1 |   492 |      223 |\n",
      "|  2 |   103 |       51 |\n",
      "|  3 |    35 |       16 |\n",
      "|  4 |    16 |        7 |\n",
      "|  5 |    11 |        5 |\n",
      "|  6 |     8 |        7 |\n",
      "|  7 |     3 |        2 |\n",
      "|  8 |     1 |        1 |\n",
      "|  9 |     1 |        1 |\n",
      "| 10 |     3 |        2 |\n"
     ]
    }
   ],
   "source": [
    "from tabulate import tabulate\n",
    "print(tabulate(df_games_per_player, tablefmt=\"pipe\", headers=\"keys\"))"
   ]
  },
  {
   "cell_type": "code",
   "execution_count": 21,
   "metadata": {},
   "outputs": [
    {
     "name": "stdout",
     "output_type": "stream",
     "text": [
      "|    |   All |   Ranked |\n",
      "|---:|------:|---------:|\n",
      "|  1 |  3614 |     1809 |\n",
      "|  2 |   160 |       57 |\n",
      "|  3 |    34 |       23 |\n",
      "|  4 |     7 |        2 |\n",
      "|  5 |     3 |        2 |\n",
      "|  6 |     6 |        6 |\n",
      "|  7 |     4 |        3 |\n",
      "|  9 |     1 |        1 |\n"
     ]
    }
   ],
   "source": [
    "print(tabulate(df_games_per_player_with, tablefmt=\"pipe\", headers=\"keys\"))"
   ]
  },
  {
   "cell_type": "markdown",
   "metadata": {},
   "source": [
    "### Last time played"
   ]
  },
  {
   "cell_type": "markdown",
   "metadata": {},
   "source": [
    "Including the alst time played in the players DataFrames"
   ]
  },
  {
   "cell_type": "code",
   "execution_count": 23,
   "metadata": {},
   "outputs": [],
   "source": [
    "df_players_abusing[\"last_played\"] = df_players_abusing[\"accountId\"].map(lambda x:last_game_timestamp_by_accountId[x] if x in last_game_timestamp_by_accountId else 0)\n",
    "df_players_with[\"last_played\"] = df_players_with[\"accountId\"].map(lambda x:last_game_timestamp_by_accountId[x] if x in last_game_timestamp_by_accountId else 0)"
   ]
  },
  {
   "cell_type": "markdown",
   "metadata": {},
   "source": [
    "Finding the accounts who used the bug more than once"
   ]
  },
  {
   "cell_type": "code",
   "execution_count": 24,
   "metadata": {},
   "outputs": [],
   "source": [
    "df_players_abusing_frequent = df_players_abusing[\n",
    "    # Filter by the given accountIds\n",
    "    df_players_abusing[\"accountId\"].isin(\n",
    "        # List the accountIds\n",
    "        df_players_abusing.groupby(\"accountId\").count()[\n",
    "            # Accounts with more than one game\n",
    "            df_players_abusing.groupby(\"accountId\").count()[\"gameId\"] > 1\n",
    "        ].index.values\n",
    "    )\n",
    "].drop_duplicates(\"accountId\")"
   ]
  },
  {
   "cell_type": "markdown",
   "metadata": {},
   "source": [
    "Number of account not having played since March (timestamp : 1617228000000)"
   ]
  },
  {
   "cell_type": "code",
   "execution_count": 27,
   "metadata": {},
   "outputs": [
    {
     "data": {
      "text/plain": [
       "69"
      ]
     },
     "execution_count": 27,
     "metadata": {},
     "output_type": "execute_result"
    }
   ],
   "source": [
    "df_players_abusing_frequent[df_players_abusing_frequent[\"last_played\"] < 1617228000000].shape[0]"
   ]
  },
  {
   "cell_type": "code",
   "execution_count": 29,
   "metadata": {},
   "outputs": [
    {
     "data": {
      "text/plain": [
       "181"
      ]
     },
     "execution_count": 29,
     "metadata": {},
     "output_type": "execute_result"
    }
   ],
   "source": [
    "df_players_abusing_frequent.shape[0]"
   ]
  },
  {
   "cell_type": "markdown",
   "metadata": {},
   "source": [
    "69 out of 181 accounts"
   ]
  },
  {
   "cell_type": "markdown",
   "metadata": {},
   "source": [
    "Same thing for 3 games or more"
   ]
  },
  {
   "cell_type": "code",
   "execution_count": 28,
   "metadata": {},
   "outputs": [
    {
     "data": {
      "text/plain": [
       "30"
      ]
     },
     "execution_count": 28,
     "metadata": {},
     "output_type": "execute_result"
    }
   ],
   "source": [
    "df_players_abusing_very_frequent = df_players_abusing[df_players_abusing[\"accountId\"].isin(df_players_abusing.groupby(\"accountId\").count()[df_players_abusing.groupby(\"accountId\").count()[\"gameId\"] > 2].index.values)].drop_duplicates(\"accountId\")\n",
    "df_players_abusing_very_frequent[df_players_abusing_very_frequent[\"last_played\"] < 1617228000000].shape[0]"
   ]
  },
  {
   "cell_type": "code",
   "execution_count": 30,
   "metadata": {},
   "outputs": [
    {
     "data": {
      "text/plain": [
       "78"
      ]
     },
     "execution_count": 30,
     "metadata": {},
     "output_type": "execute_result"
    }
   ],
   "source": [
    "df_players_abusing_very_frequent.shape[0]"
   ]
  },
  {
   "cell_type": "markdown",
   "metadata": {},
   "source": [
    "30 out of 78 accounts"
   ]
  },
  {
   "cell_type": "markdown",
   "metadata": {},
   "source": [
    "### Games over time"
   ]
  },
  {
   "cell_type": "markdown",
   "metadata": {},
   "source": [
    "Getting all timestamps over time as a base, and shifting everything to the earliuer timestamp"
   ]
  },
  {
   "cell_type": "code",
   "execution_count": 39,
   "metadata": {},
   "outputs": [],
   "source": [
    "s_viego = pd.Series(all_timestamps)\n",
    "s_viego_shifted = s_viego - s_viego.min()"
   ]
  },
  {
   "cell_type": "markdown",
   "metadata": {},
   "source": [
    "All Viego games histogram, per 10 minutes over 2 days"
   ]
  },
  {
   "cell_type": "code",
   "execution_count": 40,
   "metadata": {},
   "outputs": [
    {
     "data": {
      "text/plain": [
       "<matplotlib.axes._subplots.AxesSubplot at 0x7fb2747935b0>"
      ]
     },
     "execution_count": 40,
     "metadata": {},
     "output_type": "execute_result"
    },
    {
     "data": {
      "image/png": "[encoded data removed]",
      "text/plain": [
       "<Figure size 1440x432 with 1 Axes>"
      ]
     },
     "metadata": {
      "needs_background": "light"
     },
     "output_type": "display_data"
    }
   ],
   "source": [
    "s_viego_shifted.hist(bins=6*24*2,figsize=(20,6))"
   ]
  },
  {
   "cell_type": "markdown",
   "metadata": {},
   "source": [
    "This will be used as a base to plot everything else"
   ]
  },
  {
   "cell_type": "markdown",
   "metadata": {},
   "source": [
    "Adding the games where the bug bug as been abused"
   ]
  },
  {
   "cell_type": "code",
   "execution_count": 42,
   "metadata": {},
   "outputs": [],
   "source": [
    "s_ds_viego_shifted = df_players_abusing.drop_duplicates(\"gameId\")[\"timestamp\"] - s_viego.min()"
   ]
  },
  {
   "cell_type": "code",
   "execution_count": 43,
   "metadata": {},
   "outputs": [
    {
     "data": {
      "text/plain": [
       "(0.0, 175000000.0)"
      ]
     },
     "execution_count": 43,
     "metadata": {},
     "output_type": "execute_result"
    },
    {
     "data": {
      "image/png": "[encoded data removed]",
      "text/plain": [
       "<Figure size 1440x432 with 1 Axes>"
      ]
     },
     "metadata": {},
     "output_type": "display_data"
    }
   ],
   "source": [
    "fig, ax = plt.subplots(facecolor=\"w\")\n",
    "\n",
    "s_viego_shifted.hist(bins=6*24*2,figsize=(20,6), ax=ax)\n",
    "s_ds_viego_shifted.hist(bins=6*24*2,figsize=(20,6), ax=ax)\n",
    "ax.set_xlim((0,175000000))"
   ]
  },
  {
   "cell_type": "markdown",
   "metadata": {},
   "source": [
    "Creating a zoom on the part where Dark Seal Viego bug is raising"
   ]
  },
  {
   "cell_type": "code",
   "execution_count": 47,
   "metadata": {},
   "outputs": [
    {
     "data": {
      "text/plain": [
       "[]"
      ]
     },
     "execution_count": 47,
     "metadata": {},
     "output_type": "execute_result"
    },
    {
     "data": {
      "image/png": "[encoded data removed]",
      "text/plain": [
       "<Figure size 360x144 with 1 Axes>"
      ]
     },
     "metadata": {},
     "output_type": "display_data"
    }
   ],
   "source": [
    "fig, ax = plt.subplots(facecolor=\"w\")\n",
    "\n",
    "s_viego_shifted.hist(bins=6*24*2,figsize=(5,2), ax=ax)\n",
    "s_ds_viego_shifted.hist(bins=6*24*2,figsize=(5,2), ax=ax)\n",
    "ax.set_xlim((40000000,60000000))\n",
    "ax.set_ylim((0,60))\n",
    "\n",
    "ax.set_ylabel(\"\")\n",
    "ax.set_xlabel(\"\")\n",
    "ax.set_xticklabels([])\n",
    "ax.set_xticks([])"
   ]
  },
  {
   "cell_type": "markdown",
   "metadata": {},
   "source": [
    "Preparing banrate data"
   ]
  },
  {
   "cell_type": "code",
   "execution_count": 59,
   "metadata": {},
   "outputs": [
    {
     "data": {
      "image/png": "[encoded data removed]",
      "text/plain": [
       "<Figure size 432x288 with 1 Axes>"
      ]
     },
     "metadata": {
      "needs_background": "light"
     },
     "output_type": "display_data"
    }
   ],
   "source": [
    "(n, bins, patches) = plt.hist(s_viego_shifted, bins=6*24*2)\n",
    "\n",
    "df_bans_all[\"timestamp_shifted\"] = df_bans_all[\"timestamp\"] - s_viego.min()\n",
    "df_bans_all[\"bins\"] = pd.cut(df_bans_all[\"timestamp_shifted\"],bins)\n",
    "viego_banrate = (\n",
    "    df_bans_all[df_bans_all[\"championId\"] == 234].drop_duplicates(\"gameId\").groupby(\"bins\").count()[\"gameId\"] \n",
    "    /\n",
    "    df_bans_all.drop_duplicates(\"gameId\").groupby(\"bins\").count()[\"gameId\"]\n",
    ")\n",
    "viego_banrate.index = viego_banrate.index.map(lambda x:x.mid)\n",
    "viego_banrate.index = [float(i) for i in viego_banrate.index]"
   ]
  },
  {
   "cell_type": "markdown",
   "metadata": {},
   "source": [
    "Plotting Viego banrate over time with rolling window"
   ]
  },
  {
   "cell_type": "code",
   "execution_count": 53,
   "metadata": {},
   "outputs": [
    {
     "data": {
      "text/plain": [
       "<matplotlib.axes._subplots.AxesSubplot at 0x7fb1f6386d30>"
      ]
     },
     "execution_count": 53,
     "metadata": {},
     "output_type": "execute_result"
    },
    {
     "data": {
      "image/png": "[encoded data removed]",
      "text/plain": [
       "<Figure size 432x288 with 1 Axes>"
      ]
     },
     "metadata": {
      "needs_background": "light"
     },
     "output_type": "display_data"
    }
   ],
   "source": [
    "viego_banrate.rolling(window=2).mean().plot()"
   ]
  },
  {
   "cell_type": "code",
   "execution_count": 62,
   "metadata": {},
   "outputs": [
    {
     "data": {
      "image/png": "[encoded data removed]",
      "text/plain": [
       "<Figure size 1440x432 with 3 Axes>"
      ]
     },
     "metadata": {},
     "output_type": "display_data"
    }
   ],
   "source": [
    "import matplotlib.patches as patches\n",
    "\n",
    "fig, ax = plt.subplots(facecolor=\"w\")\n",
    "\n",
    "color=\"red\"\n",
    "color_zoom = \"black\"\n",
    "color_viego = \"purple\"\n",
    "\n",
    "# Games histograms\n",
    "s_viego_shifted.hist(bins=6*24*2,figsize=(12,6), ax=ax, label=\"Viego games\", xrot=50,)\n",
    "s_ds_viego_shifted.hist(bins=6*24*2,figsize=(12,6), ax=ax, label=\"Bug abuse Viego games\")\n",
    "ax.set_xlim((0,175000000))\n",
    "\n",
    "ax.set_ylabel(\"Number of games created (per 10 minutes)\")\n",
    "ax.set_xlabel(\"When\")\n",
    "\n",
    "\n",
    "\n",
    "# Zoomed part\n",
    "axes = plt.axes([.18, .7, .14, .14])\n",
    "\n",
    "s_viego_shifted.hist(bins=6*24*2,figsize=(5,2), ax=axes)\n",
    "s_ds_viego_shifted.hist(bins=6*24*2,figsize=(5,2), ax=axes)\n",
    "axes.set_xlim((40000000,60000000))\n",
    "axes.set_ylim((0,60))\n",
    "axes.axvline(x=58600000, color=color_viego, lw=2)\n",
    "\n",
    "axes.set_ylabel(\"\")\n",
    "axes.set_xlabel(\"\")\n",
    "axes.set_xticklabels([])\n",
    "axes.set_xticks([])\n",
    "\n",
    "## Zoom lines\n",
    "rect = patches.Rectangle((40000000, 0), 20000000, 60, linewidth=2, edgecolor=color_zoom, facecolor='none')\n",
    "ax.add_patch(rect)\n",
    "\n",
    "rect2 = patches.Rectangle((12240000, 1014), 32000000, 258, linewidth=2, edgecolor=color_zoom, facecolor='none')\n",
    "ax.add_patch(rect2)\n",
    "\n",
    "ax.plot([0.23, 0.073], [0.045, 0.755], transform=ax.transAxes, color=color_zoom)\n",
    "ax.plot([0.343, 0.253], [0.045, 0.755], transform=ax.transAxes, color=color_zoom)\n",
    "\n",
    "\n",
    "# Viego banrate plot\n",
    "ax2 = ax.twinx()\n",
    "viego_banrate_plot = (viego_banrate*100).rolling(window=2).mean().plot(ax=ax2, color=color, lw=2, label=\"Viego banrate %\")\n",
    "ax2.set_ylabel('Viego banrate %', color=color)\n",
    "ax2.set_ylim((0,50))\n",
    "\n",
    "\n",
    "# Custom label for time\n",
    "ax.set_xticks([3600000] + [3600000*i*2 for i in range(1,13)] + [3600000*12.5*2] + [3600000*i*2 for i in range(13,25)], minor=False)\n",
    "ax.set_xticklabels([\"04/03\",\"01:00\",\"03:00\",\"05:00\",\"07:00\",\"09:00\",\"11:00\",\"13:00\",\n",
    "                    \"15:00\",\"17:00\",\"19:00\",\"21:00\",\"23:00\",\"05/03\",\"01:00\",\"03:00\",\"05:00\",\"07:00\",\"09:00\",\"11:00\",\"13:00\",\n",
    "                   \"15:00\",\"17:00\",\"19:00\",\"21:00\",\"23:00\"], ha=\"right\")\n",
    "\n",
    "\n",
    "# Additional information\n",
    "# Viego disable time\n",
    "ax.axvline(x=58600000, color=color_viego, lw=2)\n",
    "ax.axvline(x=93500000, color=color_viego, lw=2)\n",
    "ax.annotate(s='', xy=(93500000,900), xytext=(58600000,900), arrowprops=dict(arrowstyle='<->', color=color_viego))\n",
    "ax.text(66050000, 925, \"Viego deactivated\", fontsize=12, color=color_viego)\n",
    "\n",
    "# Reddit post\n",
    "ax.axvline(x=38500000, color=\"blue\", lw=2)\n",
    "ax.text(39000000, 550, \"Reddit\\n post\", fontsize=12, color=\"blue\")\n",
    "\n",
    "# Adding banrate plot to legend\n",
    "handles, labels = ax.get_legend_handles_labels()\n",
    "handles.append(viego_banrate_plot.get_lines()[0])\n",
    "ax.legend(handles=handles, loc='lower right')\n",
    "\n",
    "fig.set_size_inches(20,6)"
   ]
  },
  {
   "cell_type": "code",
   "execution_count": null,
   "metadata": {},
   "outputs": [],
   "source": []
  }
 ],
 "metadata": {
  "kernelspec": {
   "display_name": "Python 3.8",
   "language": "python",
   "name": "python38"
  },
  "language_info": {
   "codemirror_mode": {
    "name": "ipython",
    "version": 3
   },
   "file_extension": ".py",
   "mimetype": "text/x-python",
   "name": "python",
   "nbconvert_exporter": "python",
   "pygments_lexer": "ipython3",
   "version": "3.8.2"
  }
 },
 "nbformat": 4,
 "nbformat_minor": 4
}
