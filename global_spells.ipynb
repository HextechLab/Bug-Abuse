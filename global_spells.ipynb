{
 "cells": [
  {
   "cell_type": "markdown",
   "metadata": {},
   "source": [
    "# Global Spells data analysis"
   ]
  },
  {
   "cell_type": "markdown",
   "metadata": {},
   "source": [
    "## Gathering data"
   ]
  },
  {
   "cell_type": "markdown",
   "metadata": {},
   "source": [
    "All games from the period of time of the experiment were stored in game_all_global collection"
   ]
  },
  {
   "cell_type": "code",
   "execution_count": 1,
   "metadata": {},
   "outputs": [],
   "source": [
    "import pymongo\n",
    "\n",
    "client = pymongo.MongoClient()\n",
    "db = client.pyke_2020\n",
    "mongoTable = db[\"game_all_global\"]"
   ]
  },
  {
   "cell_type": "markdown",
   "metadata": {},
   "source": [
    "Static information"
   ]
  },
  {
   "cell_type": "code",
   "execution_count": 15,
   "metadata": {},
   "outputs": [],
   "source": [
    "queue_types = {\n",
    "    400:\"Normal\",\n",
    "    420:\"Ranked\",\n",
    "    430:\"Normal\",\n",
    "    440:\"Ranked\",\n",
    "    450:\"Normal\",\n",
    "    700:\"Clash\",\n",
    "    830:\"Coop vs IA\",\n",
    "    840:\"Coop vs IA\",\n",
    "    850:\"Coop vs IA\"\n",
    "}"
   ]
  },
  {
   "cell_type": "markdown",
   "metadata": {},
   "source": [
    "Some helper functions for banrates and pickrates data"
   ]
  },
  {
   "cell_type": "code",
   "execution_count": 2,
   "metadata": {},
   "outputs": [],
   "source": [
    "def get_team_bans(game_data):\n",
    "    team_bans = {100:[],200:[]}\n",
    "    for t in game_data[\"teams\"]:\n",
    "        for b in t[\"bans\"]:\n",
    "            team_bans[t[\"teamId\"]].append(b[\"championId\"])\n",
    "    return team_bans\n",
    "\n",
    "def get_team_picks(game_data):\n",
    "    team_picks = {100:[],200:[]}\n",
    "    for p in game_data[\"participants\"]:\n",
    "        team_picks[p[\"teamId\"]].append(p[\"championId\"])\n",
    "    return team_picks\n",
    "\n",
    "def get_team_result(game_data):\n",
    "    for t in game_data[\"teams\"]:\n",
    "        if \"win\" in t:\n",
    "            if t[\"win\"] == \"Win\":\n",
    "                winning_team = t[\"teamId\"]\n",
    "                losing_team = 100 if winning_team == 200 else 200\n",
    "            else:\n",
    "                losing_team = t[\"teamId\"]\n",
    "                winning_team = 100 if losing_team == 200 else 200\n",
    "            return winning_team, losing_team"
   ]
  },
  {
   "cell_type": "code",
   "execution_count": 3,
   "metadata": {},
   "outputs": [],
   "source": [
    "picks = []\n",
    "bans = []\n",
    "for g in mongoTable.find({},{\"participants\":1, \"gameId\":1, \"queueId\":1, \"teams\":1, \"gameCreation\":1}):\n",
    "    # Considering only ranked data\n",
    "    if len(g[\"participants\"]) < 10 or not g[\"queueId\"] in [420,440]:\n",
    "        continue\n",
    "    team_bans = get_team_bans(g)\n",
    "    team_picks = get_team_picks(g)\n",
    "    winning_team, losing_team = get_team_result(g)\n",
    "\n",
    "\n",
    "    for b in team_bans[winning_team] + team_bans[losing_team]:\n",
    "        bans.append({\n",
    "            \"gameId\": g[\"gameId\"],\n",
    "            \"timestamp\": g[\"gameCreation\"],\n",
    "            \"queuId\": g[\"queueId\"],\n",
    "            \"championId\": b\n",
    "        })\n",
    "\n",
    "    for p in team_picks[winning_team]:\n",
    "        picks.append({\n",
    "            \"gameId\": g[\"gameId\"],\n",
    "            \"timestamp\": g[\"gameCreation\"],\n",
    "            \"queuId\": g[\"queueId\"],\n",
    "            \"championId\": p,\n",
    "            \"win\": True\n",
    "        })\n",
    "\n",
    "    for p in team_picks[losing_team]:\n",
    "        picks.append({\n",
    "            \"gameId\": g[\"gameId\"],\n",
    "            \"timestamp\": g[\"gameCreation\"],\n",
    "            \"queuId\": g[\"queueId\"],\n",
    "            \"championId\": p,\n",
    "            \"win\": False\n",
    "        })"
   ]
  },
  {
   "cell_type": "markdown",
   "metadata": {},
   "source": [
    "Putting everything into DataFrames"
   ]
  },
  {
   "cell_type": "code",
   "execution_count": 4,
   "metadata": {},
   "outputs": [],
   "source": [
    "import pandas as pd\n",
    "df_bans = pd.DataFrame(bans)\n",
    "df_picks = pd.DataFrame(picks)"
   ]
  },
  {
   "cell_type": "markdown",
   "metadata": {},
   "source": [
    "Helper function for global spell detection"
   ]
  },
  {
   "cell_type": "code",
   "execution_count": 6,
   "metadata": {},
   "outputs": [],
   "source": [
    "def get_team_damages(g):\n",
    "    t_dam = {100:0,200:0}\n",
    "    for p in g[\"participants\"]:\n",
    "        t_dam[p[\"teamId\"]] += p[\"stats\"][\"totalDamageDealt\"]\n",
    "    return t_dam\n",
    "\n",
    "def get_team_kills(g):\n",
    "    t_kills = {100:0,200:0}\n",
    "    for p in g[\"participants\"]:\n",
    "        t_kills[p[\"teamId\"]] += p[\"stats\"][\"kills\"]\n",
    "    return t_kills\n",
    "\n",
    "def get_team_cs(g):\n",
    "    t_cs = {100:0,200:0}\n",
    "    for p in g[\"participants\"]:\n",
    "        t_cs[p[\"teamId\"]] += p[\"stats\"][\"totalMinionsKilled\"]\n",
    "    return t_cs"
   ]
  },
  {
   "cell_type": "markdown",
   "metadata": {},
   "source": [
    "Finding games with some heuristics"
   ]
  },
  {
   "cell_type": "code",
   "execution_count": null,
   "metadata": {},
   "outputs": [],
   "source": [
    "for g in mongoTable.find({},{\"participants\":1, \"gameId\":1, \"gameDuration\":1}):\n",
    "    teams_damages = get_team_damages(g)\n",
    "    teams_cs = get_team_cs(g)\n",
    "    for p in g[\"participants\"]:\n",
    "        other_team = 100 if p[\"teamId\"] == 200 else 100\n",
    "        # At least 80% damages dealt\n",
    "        if p[\"stats\"][\"totalDamageDealt\"] > teams_damages[p[\"teamId\"]] * 0.8:\n",
    "            print(g[\"gameId\"])\n",
    "        # At least 80%  CS and at least 20 CS\n",
    "        if p[\"stats\"][\"totalMinionsKilled\"] > teams_cs[p[\"teamId\"]] * 0.8 and p[\"stats\"][\"totalMinionsKilled\"] > 20:\n",
    "            print(g[\"gameId\"])\n",
    "        # More than 40 kills\n",
    "        if p[\"stats\"][\"kills\"] > 40:\n",
    "            print(g[\"gameId\"])"
   ]
  },
  {
   "cell_type": "markdown",
   "metadata": {},
   "source": [
    "These heuristics are error prone and all games are manually reviewed. Additionally, all the matchlists of the accounts convinced with bug abuse are reviewed to check if they played since June 2020, and to find other games that haven't been catched by the heuristics."
   ]
  },
  {
   "cell_type": "markdown",
   "metadata": {},
   "source": [
    "The list of gameId with confirmed bug abuse, as well as the list of accounts having played since June 2020, are stored in additional flies, but won't be disclosed due to privacy reasons."
   ]
  },
  {
   "cell_type": "code",
   "execution_count": 7,
   "metadata": {},
   "outputs": [],
   "source": [
    "import json\n",
    "\n",
    "with open(\"../confirmed_bug_abuse.json\",\"r\") as f:\n",
    "    games_confirmed = json.load(f)\n",
    "with open(\"../accounts_banned.json\",\"r\") as f:\n",
    "    accounts_banned = json.load(f)"
   ]
  },
  {
   "cell_type": "markdown",
   "metadata": {},
   "source": [
    "Getting all confirmed games data in memory"
   ]
  },
  {
   "cell_type": "code",
   "execution_count": 8,
   "metadata": {},
   "outputs": [],
   "source": [
    "games = []\n",
    "for g in mongoTable.find({\"gameId\":{\"$in\":games_confirmed}},{\"participants\":1, \"gameId\":1, \"queueId\":1, \"gameCreation\":1, \"participantIdentities\":1}):\n",
    "    games.append(g)"
   ]
  },
  {
   "cell_type": "markdown",
   "metadata": {},
   "source": [
    "Extracting data from matches, with some cases manually handled with complex_cases_handled and very_complex_cases_handled variables"
   ]
  },
  {
   "cell_type": "code",
   "execution_count": 44,
   "metadata": {},
   "outputs": [],
   "source": [
    "players_abusing = []\n",
    "players_with = []\n",
    "for g in games:\n",
    "    n_champions = 0\n",
    "    champion_list = [p[\"championId\"] for p in g[\"participants\"]]\n",
    "    champion_by_pId = {p[\"participantId\"]:p[\"championId\"] for p in g[\"participants\"]}\n",
    "    win_by_pId = {p[\"participantId\"]:p[\"stats\"][\"win\"] for p in g[\"participants\"]}\n",
    "    if 78 in champion_list:\n",
    "        n_champions += 1\n",
    "    if 141 in champion_list:\n",
    "        n_champions += 1\n",
    "    if 420 in champion_list:\n",
    "        n_champions += 1\n",
    "    \n",
    "    # If there is more than one suspected champion, check the manually handle cases\n",
    "    if n_champions > 1:\n",
    "        if g[\"gameId\"] in complex_cases_handled:\n",
    "            abuser_pId, abuser_team = complex_cases_handled[g[\"gameId\"]]\n",
    "            \n",
    "        elif g[\"gameId\"] in very_complex_cases_handled:\n",
    "            abuser_pIds, abuser_team = very_complex_cases_handled[g[\"gameId\"]]\n",
    "            player_with_pId = [p[\"participantId\"] for p in g[\"participants\"] if not p[\"participantId\"] in abuser_pIds and p[\"teamId\"] == abuser_team]\n",
    "            for p in g[\"participantIdentities\"]:\n",
    "                if p[\"participantId\"] in abuser_pIds:\n",
    "                    players_abusing.append({\n",
    "                        \"gameId\":g[\"gameId\"],\n",
    "                        \"timestamp\":g[\"gameCreation\"],\n",
    "                        \"accountId\":p[\"player\"][\"matchHistoryUri\"].split(\"/\")[5],\n",
    "                        \"queueId\":g[\"queueId\"],\n",
    "                        \"queueType\":queue_types[g[\"queueId\"]],\n",
    "                        \"championId\":champion_by_pId[p[\"participantId\"]],\n",
    "                        \"win\":win_by_pId[p[\"participantId\"]]\n",
    "                    })\n",
    "                elif p[\"participantId\"] in player_with_pId:\n",
    "                    players_with.append({\n",
    "                        \"gameId\":g[\"gameId\"],\n",
    "                        \"timestamp\":g[\"gameCreation\"],\n",
    "                        \"accountId\":p[\"player\"][\"matchHistoryUri\"].split(\"/\")[5],\n",
    "                        \"queueId\":g[\"queueId\"],\n",
    "                        \"queueType\":queue_types[g[\"queueId\"]],\n",
    "                        \"championId\":champion_by_pId[p[\"participantId\"]],\n",
    "                        \"win\":win_by_pId[p[\"participantId\"]]\n",
    "                    })\n",
    "            \n",
    "            \n",
    "            continue\n",
    "        else:\n",
    "            damages = sorted([p[\"stats\"][\"totalDamageDealt\"] for p in g[\"participants\"]], reverse=True)\n",
    "            if (damages[0] / 5) > damages[1]:\n",
    "                #print(damages[0] / 5, damages[1], g[\"gameId\"])\n",
    "                abuser_pId, abuser_team, abuser_cId = \\\n",
    "                    [(p[\"participantId\"],p[\"teamId\"], p[\"championId\"]) for p in g[\"participants\"] if p[\"stats\"][\"totalDamageDealt\"] == damages[0]][0]\n",
    "                if not abuser_cId in [78,141,420]:\n",
    "                    print(\"complex case\", g[\"gameId\"])\n",
    "                    continue\n",
    "            else:\n",
    "                print(\"complex case\", g[\"gameId\"])\n",
    "                continue\n",
    "            \n",
    "        \n",
    "    else:\n",
    "        abuser_pId, abuser_team = [(p[\"participantId\"],p[\"teamId\"]) for p in g[\"participants\"] if  p[\"championId\"] in [78,141,420]][0]\n",
    "    \n",
    "    player_with_pId = [p[\"participantId\"] for p in g[\"participants\"] if not p[\"participantId\"] == abuser_pId and p[\"teamId\"] == abuser_team]\n",
    "\n",
    "    for p in g[\"participantIdentities\"]:\n",
    "        if p[\"participantId\"] == abuser_pId:\n",
    "            players_abusing.append({\n",
    "                \"gameId\":g[\"gameId\"],\n",
    "                \"timestamp\":g[\"gameCreation\"],\n",
    "                \"accountId\":p[\"player\"][\"matchHistoryUri\"].split(\"/\")[5],\n",
    "                \"queueId\":g[\"queueId\"],\n",
    "                \"queueType\":queue_types[g[\"queueId\"]],\n",
    "                \"championId\":champion_by_pId[p[\"participantId\"]],\n",
    "                \"win\":win_by_pId[p[\"participantId\"]]\n",
    "            })\n",
    "        elif p[\"participantId\"] in player_with_pId:\n",
    "            players_with.append({\n",
    "                \"gameId\":g[\"gameId\"],\n",
    "                \"timestamp\":g[\"gameCreation\"],\n",
    "                \"accountId\":p[\"player\"][\"matchHistoryUri\"].split(\"/\")[5],\n",
    "                \"queueId\":g[\"queueId\"],\n",
    "                \"queueType\":queue_types[g[\"queueId\"]],\n",
    "                \"championId\":champion_by_pId[p[\"participantId\"]],\n",
    "                \"win\":win_by_pId[p[\"participantId\"]]\n",
    "            })\n",
    "df_players_abusing = pd.DataFrame(players_abusing)\n",
    "df_players_with = pd.DataFrame(players_with)"
   ]
  },
  {
   "cell_type": "code",
   "execution_count": 45,
   "metadata": {},
   "outputs": [],
   "source": [
    "df_players_abusing[\"queueType\"] = pd.Categorical(df_players_abusing['queueType'], [\"Coop vs IA\",\"Normal\",\"Ranked\",\"Clash\"])"
   ]
  },
  {
   "cell_type": "markdown",
   "metadata": {},
   "source": [
    "## Analyzing data"
   ]
  },
  {
   "cell_type": "markdown",
   "metadata": {},
   "source": [
    "### Games distribution"
   ]
  },
  {
   "cell_type": "markdown",
   "metadata": {},
   "source": [
    "Finding the number of games per type of games"
   ]
  },
  {
   "cell_type": "code",
   "execution_count": 24,
   "metadata": {},
   "outputs": [
    {
     "data": {
      "text/plain": [
       "Ranked        541\n",
       "Normal         64\n",
       "Coop vs IA      6\n",
       "Clash           3\n",
       "Name: queueType, dtype: int64"
      ]
     },
     "execution_count": 24,
     "metadata": {},
     "output_type": "execute_result"
    }
   ],
   "source": [
    "df_players_abusing.drop_duplicates(\"gameId\").sort_values(\"queueType\")[\"queueType\"].value_counts()"
   ]
  },
  {
   "cell_type": "markdown",
   "metadata": {},
   "source": [
    "Plotting it into a pie chart"
   ]
  },
  {
   "cell_type": "code",
   "execution_count": 26,
   "metadata": {},
   "outputs": [
    {
     "data": {
      "text/plain": [
       "[]"
      ]
     },
     "execution_count": 26,
     "metadata": {},
     "output_type": "execute_result"
    },
    {
     "data": {
      "image/png": "[encoded data removed]",
      "text/plain": [
       "<Figure size 432x432 with 1 Axes>"
      ]
     },
     "metadata": {},
     "output_type": "display_data"
    }
   ],
   "source": [
    "import matplotlib.pyplot as plt\n",
    "\n",
    "\n",
    "fig, ax = plt.subplots(facecolor=\"w\")\n",
    "\n",
    "df_players_abusing.drop_duplicates(\"gameId\").sort_values(\"queueType\")[\"queueType\"].value_counts().sort_index().plot.pie(ax=ax, figsize=(6,6))\n",
    "ax.set_title('Global spell bug usage by queue')\n",
    "ax.set_ylabel(\"\")\n",
    "ax.set_xlabel(\"\")\n",
    "plt.plot()"
   ]
  },
  {
   "cell_type": "markdown",
   "metadata": {},
   "source": [
    "### Champions used"
   ]
  },
  {
   "cell_type": "markdown",
   "metadata": {},
   "source": [
    "Number of games per champions"
   ]
  },
  {
   "cell_type": "code",
   "execution_count": 28,
   "metadata": {},
   "outputs": [
    {
     "data": {
      "text/plain": [
       "78     558\n",
       "141     37\n",
       "420     22\n",
       "Name: championId, dtype: int64"
      ]
     },
     "execution_count": 28,
     "metadata": {},
     "output_type": "execute_result"
    }
   ],
   "source": [
    "df_players_abusing[\"championId\"].value_counts()"
   ]
  },
  {
   "cell_type": "markdown",
   "metadata": {},
   "source": [
    "78 is for Poppy, 141 for Kayn and 420 for Illaoi (http://ddragon.leagueoflegends.com/cdn/11.6.1/data/en_US/champion.json)"
   ]
  },
  {
   "cell_type": "code",
   "execution_count": 27,
   "metadata": {},
   "outputs": [
    {
     "data": {
      "text/plain": [
       "[]"
      ]
     },
     "execution_count": 27,
     "metadata": {},
     "output_type": "execute_result"
    },
    {
     "data": {
      "image/png": "[encoded data removed]",
      "text/plain": [
       "<Figure size 432x432 with 1 Axes>"
      ]
     },
     "metadata": {},
     "output_type": "display_data"
    }
   ],
   "source": [
    "import matplotlib.pyplot as plt\n",
    "\n",
    "\n",
    "fig, ax = plt.subplots(facecolor=\"w\")\n",
    "\n",
    "df_players_abusing[\"championId\"].value_counts().sort_index().plot.pie(ax=ax, figsize=(6,6), labels=[\"Poppy\",\"Kayn\",\"Illaoi\"])\n",
    "ax.set_title('Global spell bug usage by champion')\n",
    "ax.set_ylabel(\"\")\n",
    "ax.set_xlabel(\"\")\n",
    "plt.plot()"
   ]
  },
  {
   "cell_type": "markdown",
   "metadata": {},
   "source": [
    "### Games per player"
   ]
  },
  {
   "cell_type": "markdown",
   "metadata": {},
   "source": [
    "Here we will measure another metric, which is the number of games with the Viego bug, that each player played in"
   ]
  },
  {
   "cell_type": "code",
   "execution_count": 29,
   "metadata": {},
   "outputs": [
    {
     "data": {
      "text/html": [
       "<div>\n",
       "<style scoped>\n",
       "    .dataframe tbody tr th:only-of-type {\n",
       "        vertical-align: middle;\n",
       "    }\n",
       "\n",
       "    .dataframe tbody tr th {\n",
       "        vertical-align: top;\n",
       "    }\n",
       "\n",
       "    .dataframe thead th {\n",
       "        text-align: right;\n",
       "    }\n",
       "</style>\n",
       "<table border=\"1\" class=\"dataframe\">\n",
       "  <thead>\n",
       "    <tr style=\"text-align: right;\">\n",
       "      <th></th>\n",
       "      <th>All</th>\n",
       "      <th>Ranked</th>\n",
       "    </tr>\n",
       "  </thead>\n",
       "  <tbody>\n",
       "    <tr>\n",
       "      <th>1</th>\n",
       "      <td>62</td>\n",
       "      <td>52</td>\n",
       "    </tr>\n",
       "    <tr>\n",
       "      <th>2</th>\n",
       "      <td>43</td>\n",
       "      <td>36</td>\n",
       "    </tr>\n",
       "    <tr>\n",
       "      <th>3</th>\n",
       "      <td>29</td>\n",
       "      <td>22</td>\n",
       "    </tr>\n",
       "    <tr>\n",
       "      <th>4</th>\n",
       "      <td>22</td>\n",
       "      <td>20</td>\n",
       "    </tr>\n",
       "    <tr>\n",
       "      <th>5</th>\n",
       "      <td>9</td>\n",
       "      <td>9</td>\n",
       "    </tr>\n",
       "    <tr>\n",
       "      <th>6</th>\n",
       "      <td>9</td>\n",
       "      <td>8</td>\n",
       "    </tr>\n",
       "    <tr>\n",
       "      <th>7</th>\n",
       "      <td>8</td>\n",
       "      <td>6</td>\n",
       "    </tr>\n",
       "    <tr>\n",
       "      <th>8</th>\n",
       "      <td>5</td>\n",
       "      <td>5</td>\n",
       "    </tr>\n",
       "    <tr>\n",
       "      <th>9</th>\n",
       "      <td>1</td>\n",
       "      <td>1</td>\n",
       "    </tr>\n",
       "    <tr>\n",
       "      <th>11</th>\n",
       "      <td>1</td>\n",
       "      <td>1</td>\n",
       "    </tr>\n",
       "    <tr>\n",
       "      <th>13</th>\n",
       "      <td>1</td>\n",
       "      <td>1</td>\n",
       "    </tr>\n",
       "    <tr>\n",
       "      <th>15</th>\n",
       "      <td>2</td>\n",
       "      <td>2</td>\n",
       "    </tr>\n",
       "    <tr>\n",
       "      <th>16</th>\n",
       "      <td>1</td>\n",
       "      <td>1</td>\n",
       "    </tr>\n",
       "    <tr>\n",
       "      <th>20</th>\n",
       "      <td>1</td>\n",
       "      <td>1</td>\n",
       "    </tr>\n",
       "  </tbody>\n",
       "</table>\n",
       "</div>"
      ],
      "text/plain": [
       "    All  Ranked\n",
       "1    62      52\n",
       "2    43      36\n",
       "3    29      22\n",
       "4    22      20\n",
       "5     9       9\n",
       "6     9       8\n",
       "7     8       6\n",
       "8     5       5\n",
       "9     1       1\n",
       "11    1       1\n",
       "13    1       1\n",
       "15    2       2\n",
       "16    1       1\n",
       "20    1       1"
      ]
     },
     "execution_count": 29,
     "metadata": {},
     "output_type": "execute_result"
    }
   ],
   "source": [
    "df_games_per_player = pd.DataFrame(\n",
    "    [\n",
    "        df_players_abusing.groupby(\"accountId\").count().sort_values(\"gameId\", ascending=False)[\"gameId\"].value_counts().sort_index(), \n",
    "        df_players_abusing[df_players_abusing[\"queueType\"] == \"Ranked\"].groupby(\"accountId\").count().sort_values(\"gameId\", ascending=False)[\"gameId\"].value_counts().sort_index()\n",
    "    ], \n",
    "    index=[\"All\", \"Ranked\"]\n",
    ") \\\n",
    ".fillna(0) \\\n",
    ".astype(int).T\n",
    "\n",
    "df_games_per_player"
   ]
  },
  {
   "cell_type": "markdown",
   "metadata": {},
   "source": [
    "The index represents the number of games, and the value in the table, the number of games. For instance, 223 players used the bug only once in Ranked, and 3 players used it 10 times regardless of the queue."
   ]
  },
  {
   "cell_type": "markdown",
   "metadata": {},
   "source": [
    "We can do the same operation for the allied players"
   ]
  },
  {
   "cell_type": "code",
   "execution_count": 30,
   "metadata": {},
   "outputs": [
    {
     "data": {
      "text/html": [
       "<div>\n",
       "<style scoped>\n",
       "    .dataframe tbody tr th:only-of-type {\n",
       "        vertical-align: middle;\n",
       "    }\n",
       "\n",
       "    .dataframe tbody tr th {\n",
       "        vertical-align: top;\n",
       "    }\n",
       "\n",
       "    .dataframe thead th {\n",
       "        text-align: right;\n",
       "    }\n",
       "</style>\n",
       "<table border=\"1\" class=\"dataframe\">\n",
       "  <thead>\n",
       "    <tr style=\"text-align: right;\">\n",
       "      <th></th>\n",
       "      <th>All</th>\n",
       "      <th>Ranked</th>\n",
       "    </tr>\n",
       "  </thead>\n",
       "  <tbody>\n",
       "    <tr>\n",
       "      <th>1</th>\n",
       "      <td>1890</td>\n",
       "      <td>1638</td>\n",
       "    </tr>\n",
       "    <tr>\n",
       "      <th>2</th>\n",
       "      <td>56</td>\n",
       "      <td>45</td>\n",
       "    </tr>\n",
       "    <tr>\n",
       "      <th>3</th>\n",
       "      <td>18</td>\n",
       "      <td>14</td>\n",
       "    </tr>\n",
       "    <tr>\n",
       "      <th>4</th>\n",
       "      <td>11</td>\n",
       "      <td>10</td>\n",
       "    </tr>\n",
       "    <tr>\n",
       "      <th>5</th>\n",
       "      <td>5</td>\n",
       "      <td>5</td>\n",
       "    </tr>\n",
       "    <tr>\n",
       "      <th>6</th>\n",
       "      <td>6</td>\n",
       "      <td>6</td>\n",
       "    </tr>\n",
       "    <tr>\n",
       "      <th>7</th>\n",
       "      <td>4</td>\n",
       "      <td>5</td>\n",
       "    </tr>\n",
       "    <tr>\n",
       "      <th>8</th>\n",
       "      <td>2</td>\n",
       "      <td>2</td>\n",
       "    </tr>\n",
       "    <tr>\n",
       "      <th>9</th>\n",
       "      <td>3</td>\n",
       "      <td>2</td>\n",
       "    </tr>\n",
       "    <tr>\n",
       "      <th>10</th>\n",
       "      <td>6</td>\n",
       "      <td>6</td>\n",
       "    </tr>\n",
       "    <tr>\n",
       "      <th>12</th>\n",
       "      <td>1</td>\n",
       "      <td>1</td>\n",
       "    </tr>\n",
       "    <tr>\n",
       "      <th>14</th>\n",
       "      <td>4</td>\n",
       "      <td>4</td>\n",
       "    </tr>\n",
       "    <tr>\n",
       "      <th>16</th>\n",
       "      <td>1</td>\n",
       "      <td>1</td>\n",
       "    </tr>\n",
       "    <tr>\n",
       "      <th>18</th>\n",
       "      <td>1</td>\n",
       "      <td>1</td>\n",
       "    </tr>\n",
       "    <tr>\n",
       "      <th>22</th>\n",
       "      <td>1</td>\n",
       "      <td>1</td>\n",
       "    </tr>\n",
       "    <tr>\n",
       "      <th>37</th>\n",
       "      <td>1</td>\n",
       "      <td>1</td>\n",
       "    </tr>\n",
       "  </tbody>\n",
       "</table>\n",
       "</div>"
      ],
      "text/plain": [
       "     All  Ranked\n",
       "1   1890    1638\n",
       "2     56      45\n",
       "3     18      14\n",
       "4     11      10\n",
       "5      5       5\n",
       "6      6       6\n",
       "7      4       5\n",
       "8      2       2\n",
       "9      3       2\n",
       "10     6       6\n",
       "12     1       1\n",
       "14     4       4\n",
       "16     1       1\n",
       "18     1       1\n",
       "22     1       1\n",
       "37     1       1"
      ]
     },
     "execution_count": 30,
     "metadata": {},
     "output_type": "execute_result"
    }
   ],
   "source": [
    "df_games_per_player_with = pd.DataFrame(\n",
    "    [\n",
    "        df_players_with.groupby(\"accountId\").count().sort_values(\"gameId\", ascending=False)[\"gameId\"].value_counts().sort_index(), \n",
    "        df_players_with[df_players_with[\"queueType\"] == \"Ranked\"].groupby(\"accountId\").count().sort_values(\"gameId\", ascending=False)[\"gameId\"].value_counts().sort_index()\n",
    "    ], \n",
    "    index=[\"All\", \"Ranked\"]\n",
    ") \\\n",
    ".fillna(0) \\\n",
    ".astype(int).T\n",
    "\n",
    "df_games_per_player_with"
   ]
  },
  {
   "cell_type": "markdown",
   "metadata": {},
   "source": [
    "Of course, the number for playing once with an abuser is very high, but with high chance to be coincidence. With 2 or 3 games and more with an abuser, chances are very low that these players didn't intentionally queue up with an abuser."
   ]
  },
  {
   "cell_type": "markdown",
   "metadata": {},
   "source": [
    "Getting the table into markdown format with tabulate"
   ]
  },
  {
   "cell_type": "code",
   "execution_count": 31,
   "metadata": {},
   "outputs": [
    {
     "name": "stdout",
     "output_type": "stream",
     "text": [
      "|    |   All |   Ranked |\n",
      "|---:|------:|---------:|\n",
      "|  1 |    62 |       52 |\n",
      "|  2 |    43 |       36 |\n",
      "|  3 |    29 |       22 |\n",
      "|  4 |    22 |       20 |\n",
      "|  5 |     9 |        9 |\n",
      "|  6 |     9 |        8 |\n",
      "|  7 |     8 |        6 |\n",
      "|  8 |     5 |        5 |\n",
      "|  9 |     1 |        1 |\n",
      "| 11 |     1 |        1 |\n",
      "| 13 |     1 |        1 |\n",
      "| 15 |     2 |        2 |\n",
      "| 16 |     1 |        1 |\n",
      "| 20 |     1 |        1 |\n"
     ]
    }
   ],
   "source": [
    "from tabulate import tabulate\n",
    "print(tabulate(df_games_per_player, tablefmt=\"pipe\", headers=\"keys\"))"
   ]
  },
  {
   "cell_type": "code",
   "execution_count": 32,
   "metadata": {},
   "outputs": [
    {
     "name": "stdout",
     "output_type": "stream",
     "text": [
      "|    |   All |   Ranked |\n",
      "|---:|------:|---------:|\n",
      "|  1 |  1890 |     1638 |\n",
      "|  2 |    56 |       45 |\n",
      "|  3 |    18 |       14 |\n",
      "|  4 |    11 |       10 |\n",
      "|  5 |     5 |        5 |\n",
      "|  6 |     6 |        6 |\n",
      "|  7 |     4 |        5 |\n",
      "|  8 |     2 |        2 |\n",
      "|  9 |     3 |        2 |\n",
      "| 10 |     6 |        6 |\n",
      "| 12 |     1 |        1 |\n",
      "| 14 |     4 |        4 |\n",
      "| 16 |     1 |        1 |\n",
      "| 18 |     1 |        1 |\n",
      "| 22 |     1 |        1 |\n",
      "| 37 |     1 |        1 |\n"
     ]
    }
   ],
   "source": [
    "print(tabulate(df_games_per_player_with, tablefmt=\"pipe\", headers=\"keys\"))"
   ]
  },
  {
   "cell_type": "markdown",
   "metadata": {},
   "source": [
    "### Pickrate and banrate"
   ]
  },
  {
   "cell_type": "markdown",
   "metadata": {},
   "source": [
    "Getting the pickrate and banrate of Poppy, as being the most used champion for the bug, and the one presented in the Reddit thread"
   ]
  },
  {
   "cell_type": "code",
   "execution_count": 33,
   "metadata": {},
   "outputs": [
    {
     "name": "stderr",
     "output_type": "stream",
     "text": [
      "<ipython-input-33-b783b2ae09e6>:10: SettingWithCopyWarning: \n",
      "A value is trying to be set on a copy of a slice from a DataFrame\n",
      "\n",
      "See the caveats in the documentation: https://pandas.pydata.org/pandas-docs/stable/user_guide/indexing.html#returning-a-view-versus-a-copy\n",
      "  df_games_picks.drop_duplicates(inplace=True)\n"
     ]
    },
    {
     "data": {
      "text/plain": [
       "date\n",
       "2020-06-17    257506\n",
       "2020-06-18    271775\n",
       "2020-06-19    255328\n",
       "2020-06-20    245866\n",
       "2020-06-21    267905\n",
       "2020-06-22    272636\n",
       "2020-06-23    264427\n",
       "Name: gameId, dtype: int64"
      ]
     },
     "execution_count": 33,
     "metadata": {},
     "output_type": "execute_result"
    }
   ],
   "source": [
    "# Filtering timestamps to ensure it's in the right period of time\n",
    "df_picks = df_picks[df_picks[\"timestamp\"] >= 1592352000000]\n",
    "\n",
    "# Transforming into date format\n",
    "df_picks['date'] = pd.to_datetime(df_picks['timestamp'], unit='ms')\n",
    "df_picks['date'] = df_picks['date'].dt.date\n",
    "\n",
    "# Getting just the number of games\n",
    "df_games_picks = df_picks[[\"date\",\"gameId\"]]\n",
    "df_games_picks.drop_duplicates(inplace=True)\n",
    "df_games_picks.groupby(\"date\").count()[\"gameId\"]"
   ]
  },
  {
   "cell_type": "markdown",
   "metadata": {},
   "source": [
    "Getting the games where Poppy is picked"
   ]
  },
  {
   "cell_type": "code",
   "execution_count": 34,
   "metadata": {},
   "outputs": [],
   "source": [
    "df_poppy_picks = df_picks[df_picks[\"championId\"] == 78]"
   ]
  },
  {
   "cell_type": "markdown",
   "metadata": {},
   "source": [
    "Computing the pickrate per day"
   ]
  },
  {
   "cell_type": "code",
   "execution_count": 35,
   "metadata": {},
   "outputs": [
    {
     "data": {
      "text/html": [
       "<div>\n",
       "<style scoped>\n",
       "    .dataframe tbody tr th:only-of-type {\n",
       "        vertical-align: middle;\n",
       "    }\n",
       "\n",
       "    .dataframe tbody tr th {\n",
       "        vertical-align: top;\n",
       "    }\n",
       "\n",
       "    .dataframe thead th {\n",
       "        text-align: right;\n",
       "    }\n",
       "</style>\n",
       "<table border=\"1\" class=\"dataframe\">\n",
       "  <thead>\n",
       "    <tr style=\"text-align: right;\">\n",
       "      <th></th>\n",
       "      <th>games</th>\n",
       "      <th>picks</th>\n",
       "      <th>pickrate</th>\n",
       "    </tr>\n",
       "    <tr>\n",
       "      <th>date</th>\n",
       "      <th></th>\n",
       "      <th></th>\n",
       "      <th></th>\n",
       "    </tr>\n",
       "  </thead>\n",
       "  <tbody>\n",
       "    <tr>\n",
       "      <th>2020-06-17</th>\n",
       "      <td>257506</td>\n",
       "      <td>7514</td>\n",
       "      <td>2.917990</td>\n",
       "    </tr>\n",
       "    <tr>\n",
       "      <th>2020-06-18</th>\n",
       "      <td>271775</td>\n",
       "      <td>7778</td>\n",
       "      <td>2.861926</td>\n",
       "    </tr>\n",
       "    <tr>\n",
       "      <th>2020-06-19</th>\n",
       "      <td>255328</td>\n",
       "      <td>8029</td>\n",
       "      <td>3.144583</td>\n",
       "    </tr>\n",
       "    <tr>\n",
       "      <th>2020-06-20</th>\n",
       "      <td>245866</td>\n",
       "      <td>7155</td>\n",
       "      <td>2.910122</td>\n",
       "    </tr>\n",
       "    <tr>\n",
       "      <th>2020-06-21</th>\n",
       "      <td>267905</td>\n",
       "      <td>7787</td>\n",
       "      <td>2.906627</td>\n",
       "    </tr>\n",
       "    <tr>\n",
       "      <th>2020-06-22</th>\n",
       "      <td>272636</td>\n",
       "      <td>7641</td>\n",
       "      <td>2.802638</td>\n",
       "    </tr>\n",
       "    <tr>\n",
       "      <th>2020-06-23</th>\n",
       "      <td>264427</td>\n",
       "      <td>7330</td>\n",
       "      <td>2.772032</td>\n",
       "    </tr>\n",
       "  </tbody>\n",
       "</table>\n",
       "</div>"
      ],
      "text/plain": [
       "             games  picks  pickrate\n",
       "date                               \n",
       "2020-06-17  257506   7514  2.917990\n",
       "2020-06-18  271775   7778  2.861926\n",
       "2020-06-19  255328   8029  3.144583\n",
       "2020-06-20  245866   7155  2.910122\n",
       "2020-06-21  267905   7787  2.906627\n",
       "2020-06-22  272636   7641  2.802638\n",
       "2020-06-23  264427   7330  2.772032"
      ]
     },
     "execution_count": 35,
     "metadata": {},
     "output_type": "execute_result"
    }
   ],
   "source": [
    "df_pickrate = pd.DataFrame([df_games_picks.groupby(\"date\").count()[\"gameId\"], df_poppy_picks.groupby(\"date\").count()[\"gameId\"]], index=[\"games\",\"picks\"]).T.sort_index()\n",
    "df_pickrate[\"pickrate\"] = df_pickrate[\"picks\"] / df_pickrate[\"games\"] *100\n",
    "df_pickrate"
   ]
  },
  {
   "cell_type": "markdown",
   "metadata": {},
   "source": [
    "Same operations with bans"
   ]
  },
  {
   "cell_type": "code",
   "execution_count": 36,
   "metadata": {},
   "outputs": [
    {
     "name": "stderr",
     "output_type": "stream",
     "text": [
      "<ipython-input-36-240c2111e52b>:10: SettingWithCopyWarning: \n",
      "A value is trying to be set on a copy of a slice from a DataFrame\n",
      "\n",
      "See the caveats in the documentation: https://pandas.pydata.org/pandas-docs/stable/user_guide/indexing.html#returning-a-view-versus-a-copy\n",
      "  df_games_bans.drop_duplicates(inplace=True)\n"
     ]
    },
    {
     "data": {
      "text/plain": [
       "date\n",
       "2020-06-17    257506\n",
       "2020-06-18    271775\n",
       "2020-06-19    255328\n",
       "2020-06-20    245866\n",
       "2020-06-21    267905\n",
       "2020-06-22    272636\n",
       "2020-06-23    264427\n",
       "Name: gameId, dtype: int64"
      ]
     },
     "execution_count": 36,
     "metadata": {},
     "output_type": "execute_result"
    }
   ],
   "source": [
    "# Filtering timestamps to ensure it's in the right period of time\n",
    "df_bans = df_bans[df_bans[\"timestamp\"] >= 1592352000000]\n",
    "\n",
    "# Transforming into date format\n",
    "df_bans['date'] = pd.to_datetime(df_bans['timestamp'], unit='ms')\n",
    "df_bans['date'] = df_bans['date'].dt.date\n",
    "\n",
    "# Getting just the number of games\n",
    "df_games_bans = df_bans[[\"date\",\"gameId\"]]\n",
    "df_games_bans.drop_duplicates(inplace=True)\n",
    "df_games_bans.groupby(\"date\").count()[\"gameId\"]"
   ]
  },
  {
   "cell_type": "code",
   "execution_count": 37,
   "metadata": {},
   "outputs": [],
   "source": [
    "df_poppy_bans = df_bans[df_bans[\"championId\"] == 78]"
   ]
  },
  {
   "cell_type": "markdown",
   "metadata": {},
   "source": [
    "Finding Poppy banrate rank before and after the Reddit thread"
   ]
  },
  {
   "cell_type": "code",
   "execution_count": 52,
   "metadata": {},
   "outputs": [
    {
     "data": {
      "text/plain": [
       "78"
      ]
     },
     "execution_count": 52,
     "metadata": {},
     "output_type": "execute_result"
    }
   ],
   "source": [
    "# The iloc is used to find the champion at which rank\n",
    "df_bans[df_bans[\"date\"] == pd.to_datetime(\"2020-06-17\")].groupby(\"championId\").count().sort_values(\"gameId\", ascending=False).iloc[126].name"
   ]
  },
  {
   "cell_type": "code",
   "execution_count": 53,
   "metadata": {},
   "outputs": [
    {
     "data": {
      "text/plain": [
       "78"
      ]
     },
     "execution_count": 53,
     "metadata": {},
     "output_type": "execute_result"
    }
   ],
   "source": [
    "df_bans[df_bans[\"date\"] == pd.to_datetime(\"2020-06-19\")].groupby(\"championId\").count().sort_values(\"gameId\", ascending=False).iloc[72].name"
   ]
  },
  {
   "cell_type": "markdown",
   "metadata": {},
   "source": [
    "### Number of games with abuse"
   ]
  },
  {
   "cell_type": "markdown",
   "metadata": {},
   "source": [
    "Getting the number of games with abuse per day to match the pickrate and banrate data"
   ]
  },
  {
   "cell_type": "code",
   "execution_count": 39,
   "metadata": {},
   "outputs": [
    {
     "data": {
      "text/html": [
       "<div>\n",
       "<style scoped>\n",
       "    .dataframe tbody tr th:only-of-type {\n",
       "        vertical-align: middle;\n",
       "    }\n",
       "\n",
       "    .dataframe tbody tr th {\n",
       "        vertical-align: top;\n",
       "    }\n",
       "\n",
       "    .dataframe thead th {\n",
       "        text-align: right;\n",
       "    }\n",
       "</style>\n",
       "<table border=\"1\" class=\"dataframe\">\n",
       "  <thead>\n",
       "    <tr style=\"text-align: right;\">\n",
       "      <th></th>\n",
       "      <th>games</th>\n",
       "      <th>bans</th>\n",
       "      <th>banrate</th>\n",
       "    </tr>\n",
       "    <tr>\n",
       "      <th>date</th>\n",
       "      <th></th>\n",
       "      <th></th>\n",
       "      <th></th>\n",
       "    </tr>\n",
       "  </thead>\n",
       "  <tbody>\n",
       "    <tr>\n",
       "      <th>2020-06-17</th>\n",
       "      <td>257506</td>\n",
       "      <td>967</td>\n",
       "      <td>0.375525</td>\n",
       "    </tr>\n",
       "    <tr>\n",
       "      <th>2020-06-18</th>\n",
       "      <td>271775</td>\n",
       "      <td>1051</td>\n",
       "      <td>0.386717</td>\n",
       "    </tr>\n",
       "    <tr>\n",
       "      <th>2020-06-19</th>\n",
       "      <td>255328</td>\n",
       "      <td>6173</td>\n",
       "      <td>2.417675</td>\n",
       "    </tr>\n",
       "    <tr>\n",
       "      <th>2020-06-20</th>\n",
       "      <td>245866</td>\n",
       "      <td>3238</td>\n",
       "      <td>1.316978</td>\n",
       "    </tr>\n",
       "    <tr>\n",
       "      <th>2020-06-21</th>\n",
       "      <td>267905</td>\n",
       "      <td>2404</td>\n",
       "      <td>0.897333</td>\n",
       "    </tr>\n",
       "    <tr>\n",
       "      <th>2020-06-22</th>\n",
       "      <td>272636</td>\n",
       "      <td>1999</td>\n",
       "      <td>0.733212</td>\n",
       "    </tr>\n",
       "    <tr>\n",
       "      <th>2020-06-23</th>\n",
       "      <td>264427</td>\n",
       "      <td>1763</td>\n",
       "      <td>0.666725</td>\n",
       "    </tr>\n",
       "  </tbody>\n",
       "</table>\n",
       "</div>"
      ],
      "text/plain": [
       "             games  bans   banrate\n",
       "date                              \n",
       "2020-06-17  257506   967  0.375525\n",
       "2020-06-18  271775  1051  0.386717\n",
       "2020-06-19  255328  6173  2.417675\n",
       "2020-06-20  245866  3238  1.316978\n",
       "2020-06-21  267905  2404  0.897333\n",
       "2020-06-22  272636  1999  0.733212\n",
       "2020-06-23  264427  1763  0.666725"
      ]
     },
     "execution_count": 39,
     "metadata": {},
     "output_type": "execute_result"
    }
   ],
   "source": [
    "df_banrate = pd.DataFrame([df_games_bans.groupby(\"date\").count()[\"gameId\"], df_poppy_bans.groupby(\"date\").count()[\"gameId\"]], index=[\"games\",\"bans\"]).T.sort_index()\n",
    "df_banrate[\"banrate\"] = df_banrate[\"bans\"] / df_banrate[\"games\"] *100\n",
    "df_banrate"
   ]
  },
  {
   "cell_type": "code",
   "execution_count": 47,
   "metadata": {},
   "outputs": [
    {
     "name": "stderr",
     "output_type": "stream",
     "text": [
      "<ipython-input-47-036b8cf26685>:5: SettingWithCopyWarning: \n",
      "A value is trying to be set on a copy of a slice from a DataFrame\n",
      "\n",
      "See the caveats in the documentation: https://pandas.pydata.org/pandas-docs/stable/user_guide/indexing.html#returning-a-view-versus-a-copy\n",
      "  df_games_abused.drop_duplicates(inplace=True)\n"
     ]
    },
    {
     "data": {
      "text/plain": [
       "date\n",
       "2020-06-18     75\n",
       "2020-06-19    392\n",
       "2020-06-20     35\n",
       "2020-06-21     58\n",
       "2020-06-22     32\n",
       "2020-06-23     22\n",
       "Name: gameId, dtype: int64"
      ]
     },
     "execution_count": 47,
     "metadata": {},
     "output_type": "execute_result"
    }
   ],
   "source": [
    "df_players_abusing['date'] = pd.to_datetime(df_players_abusing['timestamp'], unit='ms')\n",
    "df_players_abusing['date'] = df_players_abusing['date'].dt.date\n",
    "\n",
    "df_games_abused = df_players_abusing[[\"date\",\"gameId\"]]\n",
    "df_games_abused.drop_duplicates(inplace=True)\n",
    "df_games_abused.groupby(\"date\").count()[\"gameId\"]"
   ]
  },
  {
   "cell_type": "code",
   "execution_count": 54,
   "metadata": {},
   "outputs": [
    {
     "data": {
      "text/plain": [
       "[]"
      ]
     },
     "execution_count": 54,
     "metadata": {},
     "output_type": "execute_result"
    },
    {
     "data": {
      "image/png": "[encoded data removed]",
      "text/plain": [
       "<Figure size 1152x576 with 2 Axes>"
      ]
     },
     "metadata": {
      "needs_background": "light"
     },
     "output_type": "display_data"
    }
   ],
   "source": [
    "import matplotlib.pyplot as plt\n",
    "\n",
    "\n",
    "fig, ax = plt.subplots()\n",
    "\n",
    "# Adding pickrate and banrate\n",
    "df_banrate[\"banrate\"].plot(ax=ax, figsize=(16,8), label=\"Poppy Banrate\")\n",
    "df_pickrate[\"pickrate\"].plot(ax=ax, label=\"Poppy Pickrate\")\n",
    "\n",
    "plt.xticks(rotation=50)\n",
    "\n",
    "# Line for Reddit thread\n",
    "ax.axvline(x=\"2020-06-18 21:00:00\", color=\"black\")\n",
    "ax.text(\"2020-06-18 21:30:00\", 0.5, \"First report on Reddit\", fontsize=12)\n",
    "\n",
    "# Poppy banrate rank\n",
    "ax.text(\"2020-06-18 01:00:00\", 0.35, \"# 126\", fontsize=12, color=\"blue\")\n",
    "ax.text(\"2020-06-18 22:00:00\", 2.45, \"# 72\", fontsize=12, color=\"blue\")\n",
    "\n",
    "ax.set_ylim((0,3.2))\n",
    "\n",
    "# Plotting the number of game abused per day\n",
    "ax2 = ax.twinx()\n",
    "\n",
    "color=\"red\"\n",
    "df_games_abused.groupby(\"date\").count().plot(ax=ax2, color=color, label=\"Global Spell games\")\n",
    "ax2.set_ylabel('Number of games with global spell abuse', color=color)\n",
    "ax2.set_ylim((0,450))\n",
    "\n",
    "# Adding the number of games\n",
    "ax2.text(\"2020-06-17 20:00:00\", 76, \"75\", fontsize=12, color=color)\n",
    "ax2.text(\"2020-06-19 00:00:00\", 396, \"392\", fontsize=12, color=color)\n",
    "\n",
    "# Updating legend\n",
    "h1, l1 = ax.get_legend_handles_labels()\n",
    "h2, l2 = ax2.get_legend_handles_labels()\n",
    "ax.legend(h1+h2, l1+[\"Global Spell games\"])\n",
    "ax2.get_legend().remove()\n",
    "\n",
    "ax.set_ylabel(\"Banrate/Pickrate Percentage\")\n",
    "ax.set_xlabel(\"Day\")\n",
    "ax.set_title(\"Poppy banrate and pickrate in Ranked games by day, compared to number of games with global spell usage\")\n",
    "plt.plot()"
   ]
  },
  {
   "cell_type": "code",
   "execution_count": null,
   "metadata": {},
   "outputs": [],
   "source": []
  }
 ],
 "metadata": {
  "kernelspec": {
   "display_name": "Python 3.8",
   "language": "python",
   "name": "python38"
  },
  "language_info": {
   "codemirror_mode": {
    "name": "ipython",
    "version": 3
   },
   "file_extension": ".py",
   "mimetype": "text/x-python",
   "name": "python",
   "nbconvert_exporter": "python",
   "pygments_lexer": "ipython3",
   "version": "3.8.2"
  },
  "toc-autonumbering": true
 },
 "nbformat": 4,
 "nbformat_minor": 4
}
